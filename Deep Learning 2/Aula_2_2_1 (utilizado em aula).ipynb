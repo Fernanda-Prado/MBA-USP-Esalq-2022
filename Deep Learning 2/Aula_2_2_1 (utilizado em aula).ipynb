{
  "cells": [
    {
      "cell_type": "markdown",
      "metadata": {
        "id": "MqOLBx2UbzlX"
      },
      "source": [
        "# Importando as bibliotecas"
      ]
    },
    {
      "cell_type": "markdown",
      "metadata": {
        "id": "HGc4ihRDcBqS"
      },
      "source": [
        "#### Vamos usar o dataset - California Housing\n",
        "\n",
        "MedInc (Mediana da renda dos domicílios): Esta variável representa a mediana da renda familiar para os distritos do conjunto de dados. É uma medida-chave da capacidade de compra dos residentes em uma determinada área.\n",
        "\n",
        "HouseAge (Idade mediana das casas): Indica a idade mediana das casas em um determinado distrito. Isso pode ser um indicador do estado de conservação das casas e também da infraestrutura da região.\n",
        "\n",
        "AveRooms (Número médio de quartos por domicílio): Esta variável representa o número médio de quartos em casas dentro de um distrito. Pode ser um indicador do tamanho médio das casas na área.\n",
        "\n",
        "AveBedrms (Número médio de quartos para dormir): Indica o número médio de quartos designados para dormir nas casas. Isso pode fornecer insights sobre o layout das residências na região.\n",
        "\n",
        "Population (População): Representa o número de pessoas que vivem em um distrito. É um fator importante a considerar ao avaliar a demanda por habitação na área.\n",
        "\n",
        "AveOccup (Ocupação média por domicílio): Esta variável indica a ocupação média por domicílio no distrito. Pode ser útil para entender a densidade populacional e a capacidade de moradia na região.\n",
        "\n",
        "Latitude (Latitude): A latitude geográfica do centro do distrito em graus decimais. É uma coordenada geográfica que pode estar relacionada a fatores como clima, localização e proximidade de serviços.\n",
        "\n",
        "Longitude (Longitude): A longitude geográfica do centro do distrito em graus decimais. Assim como a latitude, a longitude pode influenciar vários aspectos, como localização em relação a cidades próximas e acesso a recursos.\n",
        "\n",
        "Target (Variável alvo - Valor mediano das casas): Esta é a variável alvo que queremos prever. Representa o valor mediano das casas para cada distrito. É a variável que geralmente tentamos prever em problemas de regressão com este conjunto de dados."
      ]
    },
    {
      "cell_type": "markdown",
      "metadata": {
        "id": "O6SFZ34rSTuG"
      },
      "source": [
        "**Importando as Bibliotecas**\n",
        "\n",
        "Nesta primeira etapa, você importa as bibliotecas necessárias:\n",
        "\n",
        "pandas: Para manipulação de dados em DataFrames.\n",
        "**train_test_split** (do sklearn.model_selection): Para dividir o conjunto de dados em treinamento e teste.\n",
        "\n",
        "**StandardScaler** (do sklearn.preprocessing): Normaliza os dados para melhorar o desempenho do modelo.\n",
        "\n",
        "**MLPRegressor** e **DecisionTreeRegressor** (do sklearn.neural_network e sklearn.tree): Modelos de regressão para previsão.\n",
        "mean_squared_error (do sklearn.metrics): Métrica de erro quadrático médio para avaliar o modelo.\n",
        "\n",
        "**fetch_california_housing** (do sklearn.datasets): Carrega o conjunto de dados California Housing.\n",
        "\n",
        "**matplotlib.pyplot**: Para visualizar o desempenho do modelo com gráficos."
      ]
    },
    {
      "cell_type": "code",
      "execution_count": 1,
      "metadata": {
        "id": "HfFY3zN3bt3f"
      },
      "outputs": [],
      "source": [
        "import pandas as pd\n",
        "from sklearn.model_selection import train_test_split\n",
        "from sklearn.preprocessing import StandardScaler\n",
        "from sklearn.neural_network import MLPRegressor\n",
        "from sklearn.metrics import mean_squared_error\n",
        "from sklearn.datasets import fetch_california_housing\n",
        "import matplotlib.pyplot as plt\n",
        "from sklearn.tree import DecisionTreeRegressor"
      ]
    },
    {
      "cell_type": "markdown",
      "metadata": {
        "id": "5wErI7Tqb60z"
      },
      "source": [
        "# Importa Dataset"
      ]
    },
    {
      "cell_type": "markdown",
      "metadata": {
        "id": "Ic9jMUscSuNj"
      },
      "source": [
        "**Importa Dataset**\n",
        "\n",
        "Carregamos o conjunto de dados California Housing:\n",
        "\n",
        "fetch_california_housing: Coleta o dataset e armazena em um DataFrame, onde as colunas representam variáveis como renda, idade das casas, número médio de quartos, população, latitude, longitude e o alvo target, que é o valor mediano das casas."
      ]
    },
    {
      "cell_type": "code",
      "execution_count": 2,
      "metadata": {
        "id": "ISz6j_P_cKiN"
      },
      "outputs": [],
      "source": [
        "california_housing = fetch_california_housing()\n",
        "data = pd.DataFrame(california_housing.data, columns=california_housing.feature_names)\n",
        "data['target'] = california_housing.target"
      ]
    },
    {
      "cell_type": "code",
      "execution_count": 3,
      "metadata": {
        "colab": {
          "base_uri": "https://localhost:8080/"
        },
        "id": "h6XFTY6UkA5r",
        "outputId": "5b93b05e-742d-4719-bb55-afea2e12dae9"
      },
      "outputs": [
        {
          "data": {
            "text/plain": [
              "0        4.526\n",
              "1        3.585\n",
              "2        3.521\n",
              "3        3.413\n",
              "4        3.422\n",
              "         ...  \n",
              "20635    0.781\n",
              "20636    0.771\n",
              "20637    0.923\n",
              "20638    0.847\n",
              "20639    0.894\n",
              "Name: target, Length: 20640, dtype: float64"
            ]
          },
          "execution_count": 3,
          "metadata": {},
          "output_type": "execute_result"
        }
      ],
      "source": [
        "data['target']"
      ]
    },
    {
      "cell_type": "markdown",
      "metadata": {
        "id": "GhyDNFpEfUjf"
      },
      "source": [
        "# Dividindo em conjunto de treino e teste"
      ]
    },
    {
      "cell_type": "markdown",
      "metadata": {
        "id": "OgFHMpY9SwVK"
      },
      "source": [
        "**Dividindo em Conjunto de Treino e Teste**\n",
        "\n",
        "Dividimos o conjunto de dados para treinamento e teste:\n",
        "\n",
        "**train_test_split**(data, test_size=0.2, random_state=0): Divide os dados em 80% para treino e 20% para teste, garantindo consistência nos resultados com random_state=0."
      ]
    },
    {
      "cell_type": "code",
      "execution_count": 4,
      "metadata": {
        "id": "rRa0x4hzkPqq"
      },
      "outputs": [],
      "source": [
        "# Dividindo em conjunto de treino e teste\n",
        "train, test = train_test_split(data, test_size=0.2, random_state=0)"
      ]
    },
    {
      "cell_type": "code",
      "execution_count": 5,
      "metadata": {
        "id": "f-sXDjhqfVNj"
      },
      "outputs": [],
      "source": [
        "# Normalizando apenas as features (colunas de 0 a -2)\n",
        "scaler = StandardScaler()\n",
        "train_scaled = scaler.fit_transform(train.iloc[:, 1:8])\n",
        "test_scaled = scaler.transform(test.iloc[:, 1:8])\n",
        "\n",
        "# Convertendo de volta para DataFrame e adicionando a coluna alvo\n",
        "train_scaled = pd.DataFrame(train_scaled, columns=train.iloc[:,1:8].columns)\n",
        "train_scaled['target'] = train['target']\n",
        "test_scaled = pd.DataFrame(test_scaled, columns=test.iloc[:,1:8].columns)\n",
        "test_scaled['target'] = test['target']"
      ]
    },
    {
      "cell_type": "markdown",
      "metadata": {
        "id": "Zk4J-ccPS_CP"
      },
      "source": [
        "**Normalização dos Dados**\n",
        "\n",
        "A normalização ajusta a escala das variáveis de entrada, reduzindo variações nos dados e ajudando a melhorar o desempenho do modelo:\n",
        "\n",
        "StandardScaler(): Calcula a média e desvio padrão dos dados de treino para ajustar as variáveis.\n",
        "Transformação e Reconversão: Normaliza as colunas de variáveis de entrada (excluindo target) e reverte para DataFrame, preservando a coluna target."
      ]
    },
    {
      "cell_type": "code",
      "execution_count": 6,
      "metadata": {
        "id": "lgHP10-WngiU"
      },
      "outputs": [],
      "source": [
        "train_scaled = train_scaled.dropna()\n",
        "test_scaled = test_scaled.dropna()"
      ]
    },
    {
      "cell_type": "markdown",
      "metadata": {
        "id": "Emnvxna_TGQ-"
      },
      "source": [
        "**Separação de Entradas (X) e Saídas (Y)**\n",
        "\n",
        "Nesta etapa, separamos as variáveis independentes e a variável dependente target:\n",
        "\n",
        "x_train e x_test: São as variáveis de entrada.\n",
        "y_train e y_test: São as variáveis de saída (variável alvo)."
      ]
    },
    {
      "cell_type": "code",
      "execution_count": 7,
      "metadata": {
        "id": "LLZjEtEognmg"
      },
      "outputs": [],
      "source": [
        "x_train = train_scaled.iloc[:,1:8]\n",
        "x_test = test_scaled.iloc[:,1:8]\n",
        "\n",
        "y_train = train_scaled['target']\n",
        "y_test = test_scaled['target']"
      ]
    },
    {
      "cell_type": "code",
      "execution_count": 8,
      "metadata": {
        "colab": {
          "base_uri": "https://localhost:8080/"
        },
        "id": "WYkr86NAhJXy",
        "outputId": "90f45847-ed40-467e-c042-b6e1ec7ed8c2"
      },
      "outputs": [
        {
          "data": {
            "text/plain": [
              "0        4.526\n",
              "1        3.585\n",
              "2        3.521\n",
              "3        3.413\n",
              "4        3.422\n",
              "         ...  \n",
              "16504    1.022\n",
              "16506    1.259\n",
              "16508    1.490\n",
              "16510    1.390\n",
              "16511    1.824\n",
              "Name: target, Length: 13201, dtype: float64"
            ]
          },
          "execution_count": 8,
          "metadata": {},
          "output_type": "execute_result"
        }
      ],
      "source": [
        "y_train"
      ]
    },
    {
      "cell_type": "markdown",
      "metadata": {
        "id": "aTAiJEy3eFN3"
      },
      "source": [
        "# Árvore de Decisão"
      ]
    },
    {
      "cell_type": "markdown",
      "metadata": {
        "id": "C5kLFFlkTLSe"
      },
      "source": [
        "**Árvore de Decisão**\n",
        "\n",
        "Primeiro modelo utilizado, onde treinamos uma árvore de decisão para prever a variável target:\n",
        "\n",
        "**DecisionTreeRegressor()**: Modelo de regressão que particiona os dados em uma estrutura de árvore para prever o valor mediano das casas.\n",
        "Treinamento e Predição: O modelo é treinado e gera previsões sobre os dados de teste.\n",
        "\n",
        "**Erro Quadrático Médio (MSE)**: Avaliamos a precisão do modelo com mean_squared_error, que mostra a média dos erros quadráticos entre os valores reais e previstos."
      ]
    },
    {
      "cell_type": "code",
      "execution_count": 9,
      "metadata": {
        "id": "ooH6d0P9LjL7"
      },
      "outputs": [],
      "source": [
        "# Definir a seed\n",
        "random_seed = 42"
      ]
    },
    {
      "cell_type": "code",
      "execution_count": 10,
      "metadata": {
        "id": "lOgv_-Y8eKbT"
      },
      "outputs": [],
      "source": [
        "tree_model = DecisionTreeRegressor(random_state=random_seed)\n",
        "tree_model.fit(x_train, y_train)\n",
        "tree_predict = tree_model.predict(x_test)\n",
        "mse_tree = mean_squared_error(y_test, tree_predict)"
      ]
    },
    {
      "cell_type": "code",
      "execution_count": 11,
      "metadata": {
        "colab": {
          "base_uri": "https://localhost:8080/"
        },
        "id": "bHufyNuBeM6N",
        "outputId": "5ddcfd94-1e0d-4d36-dd30-1d36edb7e054"
      },
      "outputs": [
        {
          "data": {
            "text/plain": [
              "8.113440197287333e-07"
            ]
          },
          "execution_count": 11,
          "metadata": {},
          "output_type": "execute_result"
        }
      ],
      "source": [
        "mse_tree"
      ]
    },
    {
      "cell_type": "markdown",
      "metadata": {
        "id": "o9tk4AkzePq1"
      },
      "source": [
        "# Redes Neurais"
      ]
    },
    {
      "cell_type": "markdown",
      "metadata": {
        "id": "N-f-0Xn8TQa0"
      },
      "source": [
        "**Rede Neural**\n",
        "\n",
        "Em seguida, utilizamos um modelo de rede neural para fazer previsões:\n",
        "\n",
        "**MLPRegressor**(hidden_layer_sizes=(50,30,1), activation=\"identity\", solver='adam', random_state=1, max_iter=500): Rede neural com 3 camadas (50, 30 e 1 neurônios, respectivamente) e ativação linear (identity). Utilizamos o adam como otimizador e limitamos a 500 iterações para evitar o sobreajuste.\n",
        "Treinamento e Predição: O modelo é treinado e, em seguida, utilizado para gerar previsões sobre os dados de teste.\n",
        "\n",
        "**Erro Quadrático Médio (MSE)**: Avaliamos a precisão do modelo com o MSE, calculando a diferença média ao quadrado entre os valores reais e os previstos."
      ]
    },
    {
      "cell_type": "code",
      "execution_count": 12,
      "metadata": {
        "id": "_7Oz7Xo5ehvh"
      },
      "outputs": [],
      "source": [
        "nn_model = MLPRegressor(hidden_layer_sizes=(50,30,1),activation=\"identity\",solver='adam',random_state=1, max_iter=500)\n",
        "nn_model.fit(x_train, y_train)\n",
        "nn_predict = nn_model.predict(x_test)\n",
        "mse_nn = mean_squared_error(y_test, nn_predict)"
      ]
    },
    {
      "cell_type": "code",
      "execution_count": 13,
      "metadata": {
        "colab": {
          "base_uri": "https://localhost:8080/"
        },
        "id": "o0HPoWHOemlC",
        "outputId": "9c2ff507-017f-4ee4-c334-0b404e84da59"
      },
      "outputs": [
        {
          "data": {
            "text/plain": [
              "2.6364938412655947e-12"
            ]
          },
          "execution_count": 13,
          "metadata": {},
          "output_type": "execute_result"
        }
      ],
      "source": [
        "mse_nn"
      ]
    },
    {
      "cell_type": "markdown",
      "metadata": {
        "id": "kZgzLirVTcbZ"
      },
      "source": [
        "**Visualização dos Resultados**\n",
        "\n",
        "Finalmente, comparamos as previsões da rede neural aos valores reais:\n",
        "\n",
        "Gráfico de Desempenho: Usamos matplotlib para visualizar as previsões da rede neural (em azul) contra os valores reais (em vermelho), o que nos ajuda a avaliar visualmente o desempenho do modelo e sua precisão.\n"
      ]
    },
    {
      "cell_type": "code",
      "execution_count": 14,
      "metadata": {
        "colab": {
          "base_uri": "https://localhost:8080/",
          "height": 449
        },
        "id": "5GschwCqeqDT",
        "outputId": "10645122-c2f4-47a5-8c68-e83a649e00ae"
      },
      "outputs": [
        {
          "data": {
            "image/png": "[encoded data removed]",
            "text/plain": [
              "<Figure size 640x480 with 1 Axes>"
            ]
          },
          "metadata": {},
          "output_type": "display_data"
        }
      ],
      "source": [
        "# Plot\n",
        "plt.plot(y_test.values, color='red', label='Actual')\n",
        "plt.plot(nn_predict, color='blue', label='Predicted')\n",
        "plt.xlabel('Samples')\n",
        "plt.ylabel('Target')\n",
        "plt.legend()\n",
        "plt.show()"
      ]
    }
  ],
  "metadata": {
    "colab": {
      "provenance": []
    },
    "kernelspec": {
      "display_name": "deep-learning-2-RI7zfeLz-py3.10",
      "language": "python",
      "name": "python3"
    },
    "language_info": {
      "codemirror_mode": {
        "name": "ipython",
        "version": 3
      },
      "file_extension": ".py",
      "mimetype": "text/x-python",
      "name": "python",
      "nbconvert_exporter": "python",
      "pygments_lexer": "ipython3",
      "version": "3.10.0"
    }
  },
  "nbformat": 4,
  "nbformat_minor": 0
}
