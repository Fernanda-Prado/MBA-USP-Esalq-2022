{
  "cells": [
    {
      "cell_type": "markdown",
      "metadata": {
        "id": "RSvfo5ncIBJ9"
      },
      "source": [
        "## Instalação e importação de libs e packs"
      ]
    },
    {
      "cell_type": "code",
      "execution_count": 1,
      "metadata": {
        "colab": {
          "base_uri": "https://localhost:8080/"
        },
        "collapsed": true,
        "id": "xmgQIbmV4GHa",
        "outputId": "a7162424-1f5a-42fe-e58b-fdf81e856afd"
      },
      "outputs": [
        {
          "name": "stderr",
          "output_type": "stream",
          "text": [
            "usage: jupyter [-h] [--version] [--config-dir] [--data-dir] [--runtime-dir]\n",
            "               [--paths] [--json] [--debug]\n",
            "               [subcommand]\n",
            "\n",
            "Jupyter: Interactive Computing\n",
            "\n",
            "positional arguments:\n",
            "  subcommand     the subcommand to launch\n",
            "\n",
            "options:\n",
            "  -h, --help     show this help message and exit\n",
            "  --version      show the versions of core jupyter packages and exit\n",
            "  --config-dir   show Jupyter config dir\n",
            "  --data-dir     show Jupyter data dir\n",
            "  --runtime-dir  show Jupyter runtime dir\n",
            "  --paths        show all Jupyter paths. Add --json for machine-readable\n",
            "                 format.\n",
            "  --json         output paths as machine-readable json\n",
            "  --debug        output debug information about paths\n",
            "\n",
            "Available subcommands: dejavu events execute kernel kernelspec lab\n",
            "labextension labhub migrate nbconvert notebook run server troubleshoot trust\n",
            "\n",
            "Jupyter command `jupyter-nbextension` not found.\n"
          ]
        }
      ],
      "source": [
        "# 📄 setup_environment.py\n",
        "# Instalações básicas (executar apenas uma vez)\n",
        "# !pip install geopandas rasterio folium matplotlib osmnx googlemaps ee sentinelsat\n",
        "!jupyter nbextension enable --py widgetsnbextension"
      ]
    },
    {
      "cell_type": "code",
      "execution_count": 2,
      "metadata": {
        "id": "KFOLtT_UMyXx"
      },
      "outputs": [],
      "source": [
        "# 📄 0_user_input_map.py\n",
        "import folium\n",
        "import math\n",
        "import json\n",
        "import html\n",
        "from IPython.display import display, clear_output, HTML\n",
        "from ipywidgets import widgets, Output, Layout\n",
        "from branca.element import MacroElement, Figure, Html\n",
        "from jinja2 import Template"
      ]
    },
    {
      "cell_type": "markdown",
      "metadata": {
        "id": "Jaw89joPvV-M"
      },
      "source": [
        "## Entrada de dados e captura do click no mapa"
      ]
    },
    {
      "cell_type": "code",
      "execution_count": 34,
      "metadata": {
        "colab": {
          "base_uri": "https://localhost:8080/",
          "height": 100,
          "referenced_widgets": [
            "0fe68a169e6842749edf42ede11e0f88",
            "c4fc50d87ced4b5abb74c2160f97cf81",
            "c6227ea5b12d4da5a7e68ab8bc6f490c",
            "516bef835936484fa3289010ddc1667e",
            "23f508ed1e4d4ff0b736f8ab5fb991a8",
            "d08806b860334fda81f00808c31e5a6d",
            "0c5b6c0b610b449faf8c12e6b254f182",
            "599f01df46714ca18735869201cf7eb4"
          ]
        },
        "collapsed": true,
        "id": "ubFzFkqXG7rl",
        "outputId": "c3c5f86f-b979-4826-9bc8-1965d1ba060d"
      },
      "outputs": [
        {
          "data": {
            "application/vnd.jupyter.widget-view+json": {
              "model_id": "1009611027c349bf940da88ac241c09d",
              "version_major": 2,
              "version_minor": 0
            },
            "text/plain": [
              "VBox(children=(IntText(value=500, description='Raio AID (m):', layout=Layout(width='300px'), step=50), IntText…"
            ]
          },
          "metadata": {},
          "output_type": "display_data"
        },
        {
          "name": "stdout",
          "output_type": "stream",
          "text": [
            "Defina os raios de influência acima e execute a próxima célula\n"
          ]
        }
      ],
      "source": [
        "# 📌 Célula 1 - Entrada dos Raios\n",
        "\n",
        "# Widgets para entrada dos raios\n",
        "raio_aid = widgets.IntText(\n",
        "    value=500,\n",
        "    min=100,\n",
        "    max=2000,\n",
        "    step=50,\n",
        "    description='Raio AID (m):',\n",
        "    layout=Layout(width='300px')\n",
        ")\n",
        "\n",
        "raio_aii = widgets.IntText(\n",
        "    value=1000,\n",
        "    min=500,\n",
        "    max=5000,\n",
        "    step=100,\n",
        "    description='Raio AII (m):',\n",
        "    layout=Layout(width='300px')\n",
        ")\n",
        "\n",
        "display(widgets.VBox([raio_aid, raio_aii]))\n",
        "\n",
        "print(\"Defina os raios de influência acima e execute a próxima célula\")"
      ]
    },
    {
      "cell_type": "code",
      "execution_count": 39,
      "metadata": {
        "colab": {
          "base_uri": "https://localhost:8080/",
          "height": 985
        },
        "id": "9TRzLlRoFJvb",
        "outputId": "f91cb193-d359-4027-e2a7-7afec5413a37"
      },
      "outputs": [
        {
          "data": {
            "text/html": [
              "<div style=\"width:100%;\"><div style=\"position:relative;width:100%;height:0;padding-bottom:60%;\"><span style=\"color:#565656\">Make this Notebook Trusted to load map: File -> Trust Notebook</span><iframe srcdoc=\"&lt;!DOCTYPE html&gt;\n",
              "&lt;html&gt;\n",
              "&lt;head&gt;\n",
              "    \n",
              "    &lt;meta http-equiv=&quot;content-type&quot; content=&quot;text/html; charset=UTF-8&quot; /&gt;\n",
              "    \n",
              "        &lt;script&gt;\n",
              "            L_NO_TOUCH = false;\n",
              "            L_DISABLE_3D = false;\n",
              "        &lt;/script&gt;\n",
              "    \n",
              "    &lt;style&gt;html, body {width: 100%;height: 100%;margin: 0;padding: 0;}&lt;/style&gt;\n",
              "    &lt;style&gt;#map {position:absolute;top:0;bottom:0;right:0;left:0;}&lt;/style&gt;\n",
              "    &lt;script src=&quot;https://cdn.jsdelivr.net/npm/leaflet@1.9.3/dist/leaflet.js&quot;&gt;&lt;/script&gt;\n",
              "    &lt;script src=&quot;https://code.jquery.com/jquery-3.7.1.min.js&quot;&gt;&lt;/script&gt;\n",
              "    &lt;script src=&quot;https://cdn.jsdelivr.net/npm/bootstrap@5.2.2/dist/js/bootstrap.bundle.min.js&quot;&gt;&lt;/script&gt;\n",
              "    &lt;script src=&quot;https://cdnjs.cloudflare.com/ajax/libs/Leaflet.awesome-markers/2.0.2/leaflet.awesome-markers.js&quot;&gt;&lt;/script&gt;\n",
              "    &lt;link rel=&quot;stylesheet&quot; href=&quot;https://cdn.jsdelivr.net/npm/leaflet@1.9.3/dist/leaflet.css&quot;/&gt;\n",
              "    &lt;link rel=&quot;stylesheet&quot; href=&quot;https://cdn.jsdelivr.net/npm/bootstrap@5.2.2/dist/css/bootstrap.min.css&quot;/&gt;\n",
              "    &lt;link rel=&quot;stylesheet&quot; href=&quot;https://netdna.bootstrapcdn.com/bootstrap/3.0.0/css/bootstrap-glyphicons.css&quot;/&gt;\n",
              "    &lt;link rel=&quot;stylesheet&quot; href=&quot;https://cdn.jsdelivr.net/npm/@fortawesome/fontawesome-free@6.2.0/css/all.min.css&quot;/&gt;\n",
              "    &lt;link rel=&quot;stylesheet&quot; href=&quot;https://cdnjs.cloudflare.com/ajax/libs/Leaflet.awesome-markers/2.0.2/leaflet.awesome-markers.css&quot;/&gt;\n",
              "    &lt;link rel=&quot;stylesheet&quot; href=&quot;https://cdn.jsdelivr.net/gh/python-visualization/folium/folium/templates/leaflet.awesome.rotate.min.css&quot;/&gt;\n",
              "    \n",
              "            &lt;meta name=&quot;viewport&quot; content=&quot;width=device-width,\n",
              "                initial-scale=1.0, maximum-scale=1.0, user-scalable=no&quot; /&gt;\n",
              "            &lt;style&gt;\n",
              "                #map_8b79062b13cd686bb4a1df3a5d223d65 {\n",
              "                    position: relative;\n",
              "                    width: 100.0%;\n",
              "                    height: 100.0%;\n",
              "                    left: 0.0%;\n",
              "                    top: 0.0%;\n",
              "                }\n",
              "                .leaflet-container { font-size: 1rem; }\n",
              "            &lt;/style&gt;\n",
              "        \n",
              "&lt;/head&gt;\n",
              "&lt;body&gt;\n",
              "    \n",
              "    \n",
              "            &lt;div class=&quot;folium-map&quot; id=&quot;map_8b79062b13cd686bb4a1df3a5d223d65&quot; &gt;&lt;/div&gt;\n",
              "        \n",
              "&lt;/body&gt;\n",
              "&lt;script&gt;\n",
              "    \n",
              "    \n",
              "            var map_8b79062b13cd686bb4a1df3a5d223d65 = L.map(\n",
              "                &quot;map_8b79062b13cd686bb4a1df3a5d223d65&quot;,\n",
              "                {\n",
              "                    center: [-15.61081, -56.07658],\n",
              "                    crs: L.CRS.EPSG3857,\n",
              "                    ...{\n",
              "  &quot;zoom&quot;: 16,\n",
              "  &quot;zoomControl&quot;: true,\n",
              "  &quot;preferCanvas&quot;: false,\n",
              "}\n",
              "\n",
              "                }\n",
              "            );\n",
              "\n",
              "            \n",
              "\n",
              "        \n",
              "    \n",
              "            var tile_layer_0f1028fb74443bd4cfe1597e9e1145b0 = L.tileLayer(\n",
              "                &quot;https://tile.openstreetmap.org/{z}/{x}/{y}.png&quot;,\n",
              "                {\n",
              "  &quot;minZoom&quot;: 0,\n",
              "  &quot;maxZoom&quot;: 19,\n",
              "  &quot;maxNativeZoom&quot;: 19,\n",
              "  &quot;noWrap&quot;: false,\n",
              "  &quot;attribution&quot;: &quot;\\u0026copy; \\u003ca href=\\&quot;https://www.openstreetmap.org/copyright\\&quot;\\u003eOpenStreetMap\\u003c/a\\u003e contributors&quot;,\n",
              "  &quot;subdomains&quot;: &quot;abc&quot;,\n",
              "  &quot;detectRetina&quot;: false,\n",
              "  &quot;tms&quot;: false,\n",
              "  &quot;opacity&quot;: 1,\n",
              "}\n",
              "\n",
              "            );\n",
              "        \n",
              "    \n",
              "            tile_layer_0f1028fb74443bd4cfe1597e9e1145b0.addTo(map_8b79062b13cd686bb4a1df3a5d223d65);\n",
              "        \n",
              "    \n",
              "                var lat_lng_popup_3bc8edae6914236bce1a6072e57b1017 = L.popup();\n",
              "                function latLngPop(e) {\n",
              "                    lat_lng_popup_3bc8edae6914236bce1a6072e57b1017\n",
              "                        .setLatLng(e.latlng)\n",
              "                        .setContent(&quot;Latitude: &quot; + e.latlng.lat.toFixed(4) +\n",
              "                                    &quot;&lt;br&gt;Longitude: &quot; + e.latlng.lng.toFixed(4))\n",
              "                        .openOn(map_8b79062b13cd686bb4a1df3a5d223d65);\n",
              "                    }\n",
              "                map_8b79062b13cd686bb4a1df3a5d223d65.on(&#x27;click&#x27;, latLngPop);\n",
              "            \n",
              "    \n",
              "                function newMarker(e){\n",
              "                    var new_mark = L.marker().setLatLng(e.latlng).addTo(map_8b79062b13cd686bb4a1df3a5d223d65);\n",
              "                    new_mark.dragging.enable();\n",
              "                    new_mark.on(&#x27;dblclick&#x27;, function(e){ map_8b79062b13cd686bb4a1df3a5d223d65.removeLayer(e.target)})\n",
              "                    var lat = e.latlng.lat.toFixed(4),\n",
              "                       lng = e.latlng.lng.toFixed(4);\n",
              "                    new_mark.bindPopup(`Clique para posicionar`);\n",
              "                    };\n",
              "                map_8b79062b13cd686bb4a1df3a5d223d65.on(&#x27;click&#x27;, newMarker);\n",
              "            \n",
              "&lt;/script&gt;\n",
              "&lt;/html&gt;\" style=\"position:absolute;width:100%;height:100%;left:0;top:0;border:none !important;\" allowfullscreen webkitallowfullscreen mozallowfullscreen></iframe></div></div>"
            ],
            "text/plain": [
              "<folium.folium.Map at 0x26e1949bc10>"
            ]
          },
          "metadata": {},
          "output_type": "display_data"
        },
        {
          "name": "stdout",
          "output_type": "stream",
          "text": [
            "Clique no mapa para selecionar a localização do empreendimento\n"
          ]
        }
      ],
      "source": [
        "# 📌 Célula Única - Captura de Localização Simplificada\n",
        "\n",
        "def criar_mapa_selecao():\n",
        "    \"\"\"Cria mapa interativo apenas para seleção do local do empreendimento.\"\"\"\n",
        "\n",
        "    # Cria mapa centrado nas coordenadas padrão\n",
        "    m = folium.Map(location=[-15.61081, -56.07658], zoom_start=16)\n",
        "    \n",
        "    # Configura interação\n",
        "    popup = folium.LatLngPopup()\n",
        "    m.add_child(popup)  # Mostra coordenadas ao clicar\n",
        "    elem = folium.ClickForMarker(popup=\"Clique para posicionar\")\n",
        "    m.add_child(elem)\n",
        "\n",
        "    # Exibe o mapa\n",
        "    display(m)\n",
        "    print(\"Clique no mapa para selecionar a localização do empreendimento\")\n",
        "    return elem.get_bounds()\n",
        "# Uso:\n",
        "mapa = criar_mapa_selecao()"
      ]
    },
    {
      "cell_type": "code",
      "execution_count": 40,
      "metadata": {
        "colab": {
          "base_uri": "https://localhost:8080/"
        },
        "id": "PmnOn3HpuSbn",
        "outputId": "4f4b7b73-287b-497a-9ebc-de379f0b85d0"
      },
      "outputs": [
        {
          "name": "stdout",
          "output_type": "stream",
          "text": [
            "[[None, None], [None, None]]\n"
          ]
        }
      ],
      "source": [
        "print(mapa)  # deveria aparecer as coordenadas capturadas..."
      ]
    },
    {
      "cell_type": "code",
      "execution_count": 41,
      "metadata": {
        "id": "pxxbuugkVfmz"
      },
      "outputs": [
        {
          "ename": "ModuleNotFoundError",
          "evalue": "No module named 'streamlit_folium'",
          "output_type": "error",
          "traceback": [
            "\u001b[1;31m---------------------------------------------------------------------------\u001b[0m",
            "\u001b[1;31mModuleNotFoundError\u001b[0m                       Traceback (most recent call last)",
            "Cell \u001b[1;32mIn[41], line 2\u001b[0m\n\u001b[0;32m      1\u001b[0m \u001b[38;5;28;01mimport\u001b[39;00m\u001b[38;5;250m \u001b[39m\u001b[38;5;21;01mfolium\u001b[39;00m\u001b[38;5;250m \u001b[39m\u001b[38;5;28;01mas\u001b[39;00m\u001b[38;5;250m \u001b[39m\u001b[38;5;21;01mfl\u001b[39;00m\n\u001b[1;32m----> 2\u001b[0m \u001b[38;5;28;01mfrom\u001b[39;00m\u001b[38;5;250m \u001b[39m\u001b[38;5;21;01mstreamlit_folium\u001b[39;00m\u001b[38;5;250m \u001b[39m\u001b[38;5;28;01mimport\u001b[39;00m st_folium\n\u001b[0;32m      3\u001b[0m \u001b[38;5;28;01mimport\u001b[39;00m\u001b[38;5;250m \u001b[39m\u001b[38;5;21;01mstreamlit\u001b[39;00m\u001b[38;5;250m \u001b[39m\u001b[38;5;28;01mas\u001b[39;00m\u001b[38;5;250m \u001b[39m\u001b[38;5;21;01mst\u001b[39;00m\n\u001b[0;32m      5\u001b[0m \u001b[38;5;28;01mdef\u001b[39;00m\u001b[38;5;250m \u001b[39m\u001b[38;5;21mget_pos\u001b[39m(lat,lng):\n",
            "\u001b[1;31mModuleNotFoundError\u001b[0m: No module named 'streamlit_folium'"
          ]
        }
      ],
      "source": [
        "import folium as fl\n",
        "from streamlit_folium import st_folium\n",
        "import streamlit as st\n",
        "\n",
        "def get_pos(lat,lng):\n",
        "    return lat,lng\n",
        "\n",
        "m = fl.Map(location=[-15.61081, -56.07658], zoom_start=16)\n",
        "\n",
        "m.add_child(fl.LatLngPopup())\n",
        "\n",
        "map = st_folium(m, height=350, width=700)\n",
        "\n",
        "\n",
        "data = get_pos(map['last_clicked']['lat'],map['last_clicked']['lng'])\n",
        "\n",
        "if data is not None:\n",
        "    st.write(data)"
      ]
    }
  ],
  "metadata": {
    "colab": {
      "provenance": []
    },
    "kernelspec": {
      "display_name": "delete-later-qifb2I3c-py3.10",
      "language": "python",
      "name": "python3"
    },
    "language_info": {
      "codemirror_mode": {
        "name": "ipython",
        "version": 3
      },
      "file_extension": ".py",
      "mimetype": "text/x-python",
      "name": "python",
      "nbconvert_exporter": "python",
      "pygments_lexer": "ipython3",
      "version": "3.10.0"
    },
    "widgets": {
      "application/vnd.jupyter.widget-state+json": {
        "0c5b6c0b610b449faf8c12e6b254f182": {
          "model_module": "@jupyter-widgets/base",
          "model_module_version": "1.2.0",
          "model_name": "LayoutModel",
          "state": {
            "_model_module": "@jupyter-widgets/base",
            "_model_module_version": "1.2.0",
            "_model_name": "LayoutModel",
            "_view_count": null,
            "_view_module": "@jupyter-widgets/base",
            "_view_module_version": "1.2.0",
            "_view_name": "LayoutView",
            "align_content": null,
            "align_items": null,
            "align_self": null,
            "border": null,
            "bottom": null,
            "display": null,
            "flex": null,
            "flex_flow": null,
            "grid_area": null,
            "grid_auto_columns": null,
            "grid_auto_flow": null,
            "grid_auto_rows": null,
            "grid_column": null,
            "grid_gap": null,
            "grid_row": null,
            "grid_template_areas": null,
            "grid_template_columns": null,
            "grid_template_rows": null,
            "height": null,
            "justify_content": null,
            "justify_items": null,
            "left": null,
            "margin": null,
            "max_height": null,
            "max_width": null,
            "min_height": null,
            "min_width": null,
            "object_fit": null,
            "object_position": null,
            "order": null,
            "overflow": null,
            "overflow_x": null,
            "overflow_y": null,
            "padding": null,
            "right": null,
            "top": null,
            "visibility": null,
            "width": "300px"
          }
        },
        "0fe68a169e6842749edf42ede11e0f88": {
          "model_module": "@jupyter-widgets/controls",
          "model_module_version": "1.5.0",
          "model_name": "VBoxModel",
          "state": {
            "_dom_classes": [],
            "_model_module": "@jupyter-widgets/controls",
            "_model_module_version": "1.5.0",
            "_model_name": "VBoxModel",
            "_view_count": null,
            "_view_module": "@jupyter-widgets/controls",
            "_view_module_version": "1.5.0",
            "_view_name": "VBoxView",
            "box_style": "",
            "children": [
              "IPY_MODEL_c4fc50d87ced4b5abb74c2160f97cf81",
              "IPY_MODEL_c6227ea5b12d4da5a7e68ab8bc6f490c"
            ],
            "layout": "IPY_MODEL_516bef835936484fa3289010ddc1667e"
          }
        },
        "23f508ed1e4d4ff0b736f8ab5fb991a8": {
          "model_module": "@jupyter-widgets/base",
          "model_module_version": "1.2.0",
          "model_name": "LayoutModel",
          "state": {
            "_model_module": "@jupyter-widgets/base",
            "_model_module_version": "1.2.0",
            "_model_name": "LayoutModel",
            "_view_count": null,
            "_view_module": "@jupyter-widgets/base",
            "_view_module_version": "1.2.0",
            "_view_name": "LayoutView",
            "align_content": null,
            "align_items": null,
            "align_self": null,
            "border": null,
            "bottom": null,
            "display": null,
            "flex": null,
            "flex_flow": null,
            "grid_area": null,
            "grid_auto_columns": null,
            "grid_auto_flow": null,
            "grid_auto_rows": null,
            "grid_column": null,
            "grid_gap": null,
            "grid_row": null,
            "grid_template_areas": null,
            "grid_template_columns": null,
            "grid_template_rows": null,
            "height": null,
            "justify_content": null,
            "justify_items": null,
            "left": null,
            "margin": null,
            "max_height": null,
            "max_width": null,
            "min_height": null,
            "min_width": null,
            "object_fit": null,
            "object_position": null,
            "order": null,
            "overflow": null,
            "overflow_x": null,
            "overflow_y": null,
            "padding": null,
            "right": null,
            "top": null,
            "visibility": null,
            "width": "300px"
          }
        },
        "516bef835936484fa3289010ddc1667e": {
          "model_module": "@jupyter-widgets/base",
          "model_module_version": "1.2.0",
          "model_name": "LayoutModel",
          "state": {
            "_model_module": "@jupyter-widgets/base",
            "_model_module_version": "1.2.0",
            "_model_name": "LayoutModel",
            "_view_count": null,
            "_view_module": "@jupyter-widgets/base",
            "_view_module_version": "1.2.0",
            "_view_name": "LayoutView",
            "align_content": null,
            "align_items": null,
            "align_self": null,
            "border": null,
            "bottom": null,
            "display": null,
            "flex": null,
            "flex_flow": null,
            "grid_area": null,
            "grid_auto_columns": null,
            "grid_auto_flow": null,
            "grid_auto_rows": null,
            "grid_column": null,
            "grid_gap": null,
            "grid_row": null,
            "grid_template_areas": null,
            "grid_template_columns": null,
            "grid_template_rows": null,
            "height": null,
            "justify_content": null,
            "justify_items": null,
            "left": null,
            "margin": null,
            "max_height": null,
            "max_width": null,
            "min_height": null,
            "min_width": null,
            "object_fit": null,
            "object_position": null,
            "order": null,
            "overflow": null,
            "overflow_x": null,
            "overflow_y": null,
            "padding": null,
            "right": null,
            "top": null,
            "visibility": null,
            "width": null
          }
        },
        "599f01df46714ca18735869201cf7eb4": {
          "model_module": "@jupyter-widgets/controls",
          "model_module_version": "1.5.0",
          "model_name": "DescriptionStyleModel",
          "state": {
            "_model_module": "@jupyter-widgets/controls",
            "_model_module_version": "1.5.0",
            "_model_name": "DescriptionStyleModel",
            "_view_count": null,
            "_view_module": "@jupyter-widgets/base",
            "_view_module_version": "1.2.0",
            "_view_name": "StyleView",
            "description_width": ""
          }
        },
        "c4fc50d87ced4b5abb74c2160f97cf81": {
          "model_module": "@jupyter-widgets/controls",
          "model_module_version": "1.5.0",
          "model_name": "IntTextModel",
          "state": {
            "_dom_classes": [],
            "_model_module": "@jupyter-widgets/controls",
            "_model_module_version": "1.5.0",
            "_model_name": "IntTextModel",
            "_view_count": null,
            "_view_module": "@jupyter-widgets/controls",
            "_view_module_version": "1.5.0",
            "_view_name": "IntTextView",
            "continuous_update": false,
            "description": "Raio AID (m):",
            "description_tooltip": null,
            "disabled": false,
            "layout": "IPY_MODEL_23f508ed1e4d4ff0b736f8ab5fb991a8",
            "step": 50,
            "style": "IPY_MODEL_d08806b860334fda81f00808c31e5a6d",
            "value": 500
          }
        },
        "c6227ea5b12d4da5a7e68ab8bc6f490c": {
          "model_module": "@jupyter-widgets/controls",
          "model_module_version": "1.5.0",
          "model_name": "IntTextModel",
          "state": {
            "_dom_classes": [],
            "_model_module": "@jupyter-widgets/controls",
            "_model_module_version": "1.5.0",
            "_model_name": "IntTextModel",
            "_view_count": null,
            "_view_module": "@jupyter-widgets/controls",
            "_view_module_version": "1.5.0",
            "_view_name": "IntTextView",
            "continuous_update": false,
            "description": "Raio AII (m):",
            "description_tooltip": null,
            "disabled": false,
            "layout": "IPY_MODEL_0c5b6c0b610b449faf8c12e6b254f182",
            "step": 100,
            "style": "IPY_MODEL_599f01df46714ca18735869201cf7eb4",
            "value": 1000
          }
        },
        "d08806b860334fda81f00808c31e5a6d": {
          "model_module": "@jupyter-widgets/controls",
          "model_module_version": "1.5.0",
          "model_name": "DescriptionStyleModel",
          "state": {
            "_model_module": "@jupyter-widgets/controls",
            "_model_module_version": "1.5.0",
            "_model_name": "DescriptionStyleModel",
            "_view_count": null,
            "_view_module": "@jupyter-widgets/base",
            "_view_module_version": "1.2.0",
            "_view_name": "StyleView",
            "description_width": ""
          }
        }
      }
    }
  },
  "nbformat": 4,
  "nbformat_minor": 0
}
